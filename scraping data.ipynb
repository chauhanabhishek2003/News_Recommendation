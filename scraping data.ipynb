{
 "cells": [
  {
   "cell_type": "code",
   "execution_count": 1,
   "id": "a1ee5561",
   "metadata": {},
   "outputs": [],
   "source": [
    "from bs4 import BeautifulSoup\n",
    "import requests\n",
    "import pandas as pd"
   ]
  },
  {
   "cell_type": "code",
   "execution_count": 9,
   "id": "e67a496f",
   "metadata": {},
   "outputs": [],
   "source": [
    "def func(url):\n",
    "    try:\n",
    "        response = requests.get(url)\n",
    "        soup = BeautifulSoup(response.content, \"html.parser\")\n",
    "        title = soup.find(\"meta\", property=\"og:title\")['content']\n",
    "        url = soup.find(\"meta\", property=\"og:url\")['content']\n",
    "        des= soup.find(\"meta\", property=\"og:description\")['content']\n",
    "        key= soup.find(\"meta\", attrs={\"name\": \"keywords\"}).get(\"content\")\n",
    "        data_dict = {\n",
    "            'Title': [title],\n",
    "            'URL': [url],\n",
    "            'Description': [des],\n",
    "            'Keywords': [key]\n",
    "        }\n",
    "        df = pd.DataFrame(data_dict)\n",
    "        try:\n",
    "            existing_df = pd.read_csv('my_data.csv')\n",
    "        except FileNotFoundError:\n",
    "            existing_df = pd.DataFrame(columns=['Title','URL','Description','Keywords'])\n",
    "        combined_df=pd.concat([df,existing_df], ignore_index=True)\n",
    "        combined_df.to_csv('my_data.csv', index=False)\n",
    "    except Exception as e:\n",
    "        return"
   ]
  },
  {
   "cell_type": "code",
   "execution_count": 4,
   "id": "158c887a",
   "metadata": {},
   "outputs": [],
   "source": [
    "url='https://opennewswire.org/feed/?language=1'\n",
    "req = requests.get(url)\n",
    "soup = BeautifulSoup(req.content, 'html.parser')\n",
    "table = soup.find(name='table')"
   ]
  },
  {
   "cell_type": "code",
   "execution_count": 5,
   "id": "5c5d66bd",
   "metadata": {},
   "outputs": [],
   "source": [
    "all_links = table.find_all(\"a\")\n",
    "href_list = [link.get(\"href\") for link in all_links]\n",
    "for url in href_list:\n",
    "    func(url)"
   ]
  },
  {
   "cell_type": "code",
   "execution_count": 6,
   "id": "322764d8",
   "metadata": {},
   "outputs": [],
   "source": [
    "try:\n",
    "    existing_df = pd.read_csv('my_data.csv')\n",
    "except FileNotFoundError:\n",
    "    existing_df = pd.DataFrame(columns=['Title','URL','Description','Keywords'])"
   ]
  },
  {
   "cell_type": "code",
   "execution_count": 7,
   "id": "1bf70248",
   "metadata": {},
   "outputs": [
    {
     "data": {
      "text/plain": [
       "(40, 4)"
      ]
     },
     "execution_count": 7,
     "metadata": {},
     "output_type": "execute_result"
    }
   ],
   "source": [
    "existing_df.drop_duplicates(inplace=True)\n",
    "existing_df.shape"
   ]
  },
  {
   "cell_type": "code",
   "execution_count": 8,
   "id": "757111bf",
   "metadata": {},
   "outputs": [],
   "source": [
    "existing_df.to_csv('my_data.csv', index=False)"
   ]
  }
 ],
 "metadata": {
  "kernelspec": {
   "display_name": "Python 3 (ipykernel)",
   "language": "python",
   "name": "python3"
  },
  "language_info": {
   "codemirror_mode": {
    "name": "ipython",
    "version": 3
   },
   "file_extension": ".py",
   "mimetype": "text/x-python",
   "name": "python",
   "nbconvert_exporter": "python",
   "pygments_lexer": "ipython3",
   "version": "3.9.12"
  }
 },
 "nbformat": 4,
 "nbformat_minor": 5
}
