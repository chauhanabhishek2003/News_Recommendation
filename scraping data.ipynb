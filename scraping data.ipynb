{
 "cells": [
  {
   "cell_type": "code",
   "execution_count": 1,
   "id": "ddc9a39a",
   "metadata": {},
   "outputs": [],
   "source": [
    "from bs4 import BeautifulSoup\n",
    "import requests\n",
    "import pandas as pd"
   ]
  },
  {
   "cell_type": "code",
   "execution_count": 2,
   "id": "cf6f1084",
   "metadata": {},
   "outputs": [],
   "source": [
    "try:\n",
    "    existing_df = pd.read_csv('my_data.csv')\n",
    "except FileNotFoundError:\n",
    "    existing_df = pd.DataFrame(columns=['Title','URL','Description','Keywords'])"
   ]
  },
  {
   "cell_type": "code",
   "execution_count": 3,
   "id": "a3df4db8",
   "metadata": {},
   "outputs": [],
   "source": [
    "def func(url):\n",
    "    try:\n",
    "        response = requests.get(url)\n",
    "        soup = BeautifulSoup(response.content, \"html.parser\")\n",
    "        title = soup.find(\"meta\", property=\"og:title\")['content']\n",
    "        url = soup.find(\"meta\", property=\"og:url\")['content']\n",
    "        des= soup.find(\"meta\", property=\"og:description\")['content']\n",
    "        key= soup.find(\"meta\", attrs={\"name\": \"keywords\"}).get(\"content\")\n",
    "        data_dict = {\n",
    "            'Title': [title],\n",
    "            'URL': [url],\n",
    "            'Description': [des],\n",
    "            'Keywords': [key]\n",
    "        }\n",
    "        df = pd.DataFrame(data_dict)\n",
    "        try:\n",
    "            existing_df = pd.read_csv('my_data.csv')\n",
    "        except FileNotFoundError:\n",
    "            existing_df = pd.DataFrame(columns=['Title','URL','Description','Keywords'])\n",
    "        combined_df=pd.concat([existing_df,df], ignore_index=True)\n",
    "        combined_df.to_csv('my_data.csv', index=False)\n",
    "        print(\"Data saved successfully!\")\n",
    "    except Exception as e:\n",
    "        print(\"err\")"
   ]
  },
  {
   "cell_type": "code",
   "execution_count": 4,
   "id": "0467e5c5",
   "metadata": {},
   "outputs": [],
   "source": [
    "url='https://opennewswire.org/feed/?language=1'\n",
    "req = requests.get(url)\n",
    "soup = BeautifulSoup(req.content, 'html.parser')\n",
    "table = soup.find(name='table')"
   ]
  },
  {
   "cell_type": "code",
   "execution_count": 5,
   "id": "b8febcd3",
   "metadata": {},
   "outputs": [
    {
     "name": "stdout",
     "output_type": "stream",
     "text": [
      "Data saved successfully!\n",
      "err\n",
      "err\n",
      "Data saved successfully!\n",
      "Data saved successfully!\n",
      "err\n",
      "Data saved successfully!\n",
      "Data saved successfully!\n",
      "err\n",
      "err\n",
      "err\n",
      "err\n",
      "Data saved successfully!\n",
      "Data saved successfully!\n",
      "err\n",
      "Data saved successfully!\n",
      "Data saved successfully!\n",
      "err\n",
      "err\n",
      "err\n",
      "err\n",
      "err\n",
      "err\n",
      "err\n",
      "Data saved successfully!\n",
      "Data saved successfully!\n",
      "err\n",
      "Data saved successfully!\n",
      "Data saved successfully!\n",
      "err\n",
      "err\n",
      "err\n",
      "err\n",
      "Data saved successfully!\n",
      "Data saved successfully!\n",
      "err\n",
      "err\n"
     ]
    },
    {
     "name": "stderr",
     "output_type": "stream",
     "text": [
      "C:\\Users\\ABHISHEK\\anaconda3\\lib\\site-packages\\bs4\\builder\\__init__.py:545: XMLParsedAsHTMLWarning: It looks like you're parsing an XML document using an HTML parser. If this really is an HTML document (maybe it's XHTML?), you can ignore or filter this warning. If it's XML, you should know that using an XML parser will be more reliable. To parse this document as XML, make sure you have the lxml package installed, and pass the keyword argument `features=\"xml\"` into the BeautifulSoup constructor.\n",
      "  warnings.warn(\n"
     ]
    },
    {
     "name": "stdout",
     "output_type": "stream",
     "text": [
      "err\n",
      "err\n",
      "err\n",
      "err\n",
      "err\n",
      "err\n",
      "err\n",
      "err\n",
      "err\n",
      "err\n",
      "err\n",
      "err\n",
      "err\n",
      "err\n",
      "Data saved successfully!\n",
      "Data saved successfully!\n",
      "err\n",
      "Data saved successfully!\n",
      "Data saved successfully!\n",
      "err\n",
      "err\n",
      "err\n",
      "err\n",
      "err\n",
      "err\n",
      "err\n",
      "err\n",
      "err\n",
      "err\n",
      "Data saved successfully!\n",
      "Data saved successfully!\n",
      "err\n",
      "Data saved successfully!\n",
      "Data saved successfully!\n",
      "err\n",
      "Data saved successfully!\n",
      "Data saved successfully!\n",
      "err\n",
      "Data saved successfully!\n",
      "Data saved successfully!\n",
      "err\n",
      "err\n",
      "err\n",
      "err\n",
      "Data saved successfully!\n",
      "Data saved successfully!\n",
      "err\n",
      "err\n",
      "err\n",
      "err\n",
      "err\n",
      "err\n",
      "err\n",
      "err\n",
      "err\n",
      "err\n",
      "err\n",
      "err\n",
      "err\n",
      "Data saved successfully!\n",
      "Data saved successfully!\n",
      "err\n",
      "err\n",
      "err\n",
      "err\n",
      "err\n",
      "err\n",
      "err\n",
      "err\n",
      "err\n",
      "err\n",
      "err\n",
      "err\n",
      "err\n",
      "Data saved successfully!\n",
      "Data saved successfully!\n",
      "err\n",
      "Data saved successfully!\n",
      "Data saved successfully!\n",
      "err\n",
      "err\n"
     ]
    },
    {
     "name": "stderr",
     "output_type": "stream",
     "text": [
      "C:\\Users\\ABHISHEK\\anaconda3\\lib\\site-packages\\bs4\\builder\\__init__.py:545: XMLParsedAsHTMLWarning: It looks like you're parsing an XML document using an HTML parser. If this really is an HTML document (maybe it's XHTML?), you can ignore or filter this warning. If it's XML, you should know that using an XML parser will be more reliable. To parse this document as XML, make sure you have the lxml package installed, and pass the keyword argument `features=\"xml\"` into the BeautifulSoup constructor.\n",
      "  warnings.warn(\n"
     ]
    },
    {
     "name": "stdout",
     "output_type": "stream",
     "text": [
      "err\n",
      "err\n",
      "err\n",
      "err\n",
      "err\n",
      "err\n",
      "err\n",
      "err\n",
      "Data saved successfully!\n",
      "Data saved successfully!\n",
      "err\n",
      "err\n",
      "err\n",
      "err\n",
      "err\n",
      "err\n",
      "err\n",
      "err\n",
      "err\n",
      "err\n",
      "Data saved successfully!\n",
      "Data saved successfully!\n",
      "err\n",
      "Data saved successfully!\n",
      "Data saved successfully!\n",
      "err\n",
      "Data saved successfully!\n",
      "Data saved successfully!\n",
      "err\n",
      "Data saved successfully!\n",
      "Data saved successfully!\n",
      "err\n"
     ]
    }
   ],
   "source": [
    "all_links = table.find_all(\"a\")\n",
    "href_list = [link.get(\"href\") for link in all_links]\n",
    "for url in href_list:\n",
    "    func(url)"
   ]
  },
  {
   "cell_type": "code",
   "execution_count": 6,
   "id": "f32a8f07",
   "metadata": {},
   "outputs": [
    {
     "data": {
      "text/plain": [
       "(25, 4)"
      ]
     },
     "execution_count": 6,
     "metadata": {},
     "output_type": "execute_result"
    }
   ],
   "source": [
    "existing_df.drop_duplicates(inplace=True)\n",
    "existing_df.shape"
   ]
  },
  {
   "cell_type": "code",
   "execution_count": 7,
   "id": "5442b1c2",
   "metadata": {},
   "outputs": [],
   "source": [
    "existing_df.to_csv('my_data.csv', index=False)"
   ]
  },
  {
   "cell_type": "code",
   "execution_count": null,
   "id": "0e8ec039",
   "metadata": {},
   "outputs": [],
   "source": []
  }
 ],
 "metadata": {
  "kernelspec": {
   "display_name": "Python 3 (ipykernel)",
   "language": "python",
   "name": "python3"
  },
  "language_info": {
   "codemirror_mode": {
    "name": "ipython",
    "version": 3
   },
   "file_extension": ".py",
   "mimetype": "text/x-python",
   "name": "python",
   "nbconvert_exporter": "python",
   "pygments_lexer": "ipython3",
   "version": "3.9.12"
  }
 },
 "nbformat": 4,
 "nbformat_minor": 5
}
